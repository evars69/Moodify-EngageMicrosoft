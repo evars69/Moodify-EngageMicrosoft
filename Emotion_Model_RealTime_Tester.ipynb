{
 "cells": [
  {
   "cell_type": "code",
   "execution_count": 1,
   "id": "4c95c24a",
   "metadata": {},
   "outputs": [
    {
     "ename": "ImportError",
     "evalue": "cannot import name 'load_img' from 'keras.preprocessing.image' (c:\\Users\\BARSHA\\AppData\\Local\\Programs\\Python\\Python38\\lib\\site-packages\\keras\\preprocessing\\image.py)",
     "output_type": "error",
     "traceback": [
      "\u001b[1;31m---------------------------------------------------------------------------\u001b[0m",
      "\u001b[1;31mImportError\u001b[0m                               Traceback (most recent call last)",
      "\u001b[1;32mc:\\Users\\BARSHA\\Face_Recognition_Project\\Emotion_Model_RealTime_Tester.ipynb Cell 1'\u001b[0m in \u001b[0;36m<cell line: 7>\u001b[1;34m()\u001b[0m\n\u001b[0;32m      <a href='vscode-notebook-cell:/c%3A/Users/BARSHA/Face_Recognition_Project/Emotion_Model_RealTime_Tester.ipynb#ch0000000?line=4'>5</a>\u001b[0m \u001b[39mimport\u001b[39;00m \u001b[39mwarnings\u001b[39;00m\n\u001b[0;32m      <a href='vscode-notebook-cell:/c%3A/Users/BARSHA/Face_Recognition_Project/Emotion_Model_RealTime_Tester.ipynb#ch0000000?line=5'>6</a>\u001b[0m warnings\u001b[39m.\u001b[39mfilterwarnings(\u001b[39m\"\u001b[39m\u001b[39mignore\u001b[39m\u001b[39m\"\u001b[39m)\n\u001b[1;32m----> <a href='vscode-notebook-cell:/c%3A/Users/BARSHA/Face_Recognition_Project/Emotion_Model_RealTime_Tester.ipynb#ch0000000?line=6'>7</a>\u001b[0m \u001b[39mfrom\u001b[39;00m \u001b[39mkeras\u001b[39;00m\u001b[39m.\u001b[39;00m\u001b[39mpreprocessing\u001b[39;00m\u001b[39m.\u001b[39;00m\u001b[39mimage\u001b[39;00m \u001b[39mimport\u001b[39;00m load_img, img_to_array \n\u001b[0;32m      <a href='vscode-notebook-cell:/c%3A/Users/BARSHA/Face_Recognition_Project/Emotion_Model_RealTime_Tester.ipynb#ch0000000?line=7'>8</a>\u001b[0m \u001b[39mfrom\u001b[39;00m \u001b[39mkeras\u001b[39;00m\u001b[39m.\u001b[39;00m\u001b[39mmodels\u001b[39;00m \u001b[39mimport\u001b[39;00m  load_model\n\u001b[0;32m      <a href='vscode-notebook-cell:/c%3A/Users/BARSHA/Face_Recognition_Project/Emotion_Model_RealTime_Tester.ipynb#ch0000000?line=8'>9</a>\u001b[0m \u001b[39mimport\u001b[39;00m \u001b[39mmatplotlib\u001b[39;00m\u001b[39m.\u001b[39;00m\u001b[39mpyplot\u001b[39;00m \u001b[39mas\u001b[39;00m \u001b[39mplt\u001b[39;00m\n",
      "\u001b[1;31mImportError\u001b[0m: cannot import name 'load_img' from 'keras.preprocessing.image' (c:\\Users\\BARSHA\\AppData\\Local\\Programs\\Python\\Python38\\lib\\site-packages\\keras\\preprocessing\\image.py)"
     ]
    }
   ],
   "source": [
    "import os\n",
    "import cv2\n",
    "import numpy as np\n",
    "from keras.preprocessing import image\n",
    "import warnings\n",
    "warnings.filterwarnings(\"ignore\")\n",
    "from keras.preprocessing.image import load_img, img_to_array \n",
    "from keras.models import  load_model\n",
    "import matplotlib.pyplot as plt\n",
    "import numpy as np\n",
    "import tensorflow as tf\n",
    "\n",
    "# load model\n",
    "model = load_model(\"final_model.h5\")\n",
    "\n",
    "\n",
    "face_haar_cascade = cv2.CascadeClassifier(cv2.data.haarcascades + 'haarcascade_frontalface_default.xml')\n"
   ]
  },
  {
   "cell_type": "code",
   "execution_count": null,
   "id": "ad462d4c",
   "metadata": {},
   "outputs": [],
   "source": [
    "i=0\n",
    "GR_dict={0:(0,255,0),1:(0,0,255)}\n",
    "\n",
    "model = tf.keras.models.load_model('final_model.h5')\n",
    "face_cascade = cv2.CascadeClassifier('haarcascade_frontalface_default.xml')\n",
    "\n",
    "output=[]\n",
    "cap = cv2.VideoCapture(0)\n",
    "\n",
    "while (i<=50):\n",
    "    ret, img = cap.read()\n",
    "    #gray = cv2.cvtColor(img,cv2.COLOR_BGR2GRAY)\n",
    "    faces = face_cascade.detectMultiScale(img,1.05,5)\n",
    "\n",
    "    for x,y,w,h in faces:\n",
    "\n",
    "        face_img = img[y:y+h,x:x+w] \n",
    "\n",
    "        resized = cv2.resize(face_img,(224,224))\n",
    "        reshaped=resized.reshape(1, 224,224,3)/255\n",
    "        predictions = model.predict(reshaped)\n",
    "\n",
    "        # find max indexed array\n",
    "        max_index = np.argmax(predictions[0])\n",
    "\n",
    "        emotions = ('angry', 'disgust', 'fear', 'happy', 'sad', 'neutral', 'surprise')\n",
    "        predicted_emotion = emotions[max_index]\n",
    "        output.append(predicted_emotion)\n",
    "            \n",
    "            \n",
    "            \n",
    "        cv2.rectangle(img,(x,y),(x+w,y+h),GR_dict[1],2)\n",
    "        cv2.rectangle(img,(x,y-40),(x+w,y),GR_dict[1],-1)\n",
    "        cv2.putText(img, predicted_emotion, (x, y-10),cv2.FONT_HERSHEY_SIMPLEX,0.8,(255,255,255),2)\n",
    "    i = i+1\n",
    "\n",
    "    cv2.imshow('LIVE', img)\n",
    "    key = cv2.waitKey(1)\n",
    "    if key == 27: \n",
    "        cap.release()\n",
    "        cv2.destroyAllWindows()\n",
    "        break\n",
    "print(output)\n",
    "cap.release()\n",
    "cv2.destroyAllWindows()\n",
    "final_output1 = st.mode(output)"
   ]
  },
  {
   "cell_type": "code",
   "execution_count": null,
   "id": "5bb899a2",
   "metadata": {},
   "outputs": [],
   "source": [
    "import statistics as st\n",
    "final_output = st.mode(output)\n",
    "final_output"
   ]
  }
 ],
 "metadata": {
  "interpreter": {
   "hash": "be5fd4c82c7682df7bfd84480fc3c12b668df297079e18940c83cf86ac3edcbd"
  },
  "kernelspec": {
   "display_name": "Python 3.8.8 64-bit",
   "language": "python",
   "name": "python3"
  },
  "language_info": {
   "codemirror_mode": {
    "name": "ipython",
    "version": 3
   },
   "file_extension": ".py",
   "mimetype": "text/x-python",
   "name": "python",
   "nbconvert_exporter": "python",
   "pygments_lexer": "ipython3",
   "version": "3.8.8"
  }
 },
 "nbformat": 4,
 "nbformat_minor": 5
}
